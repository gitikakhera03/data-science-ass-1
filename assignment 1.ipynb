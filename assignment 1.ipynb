{
 "cells": [
  {
   "cell_type": "code",
   "execution_count": 2,
   "id": "dcb4db34-58b9-4d9b-ac8e-7b4448bb6948",
   "metadata": {},
   "outputs": [],
   "source": [
    "a=\"hii\""
   ]
  },
  {
   "cell_type": "code",
   "execution_count": 4,
   "id": "76553715-4245-4c97-92aa-41bb983a2ff2",
   "metadata": {},
   "outputs": [],
   "source": [
    "l=(\"str\",2,5)"
   ]
  },
  {
   "cell_type": "code",
   "execution_count": null,
   "id": "1db6a0b8-4401-4e63-90c0-a180c871c217",
   "metadata": {},
   "outputs": [],
   "source": []
  },
  {
   "cell_type": "code",
   "execution_count": 5,
   "id": "edc79476-14c5-4e04-81ff-ed61c471f3e4",
   "metadata": {},
   "outputs": [
    {
     "name": "stdout",
     "output_type": "stream",
     "text": [
      "('str', 2, 5)\n"
     ]
    }
   ],
   "source": [
    "print (l)"
   ]
  },
  {
   "cell_type": "code",
   "execution_count": 6,
   "id": "f205c6c0-887e-4001-b0b0-b756edeed05d",
   "metadata": {},
   "outputs": [],
   "source": [
    "d=2.5"
   ]
  },
  {
   "cell_type": "code",
   "execution_count": 7,
   "id": "1b13c112-fff5-4044-a636-bb1f457e0f47",
   "metadata": {},
   "outputs": [
    {
     "name": "stdout",
     "output_type": "stream",
     "text": [
      "2.5\n"
     ]
    }
   ],
   "source": [
    "print (d)"
   ]
  },
  {
   "cell_type": "code",
   "execution_count": 8,
   "id": "ee4cee1f-916c-438f-8405-ff0397f63bf9",
   "metadata": {},
   "outputs": [],
   "source": [
    "a=2.5555"
   ]
  },
  {
   "cell_type": "code",
   "execution_count": 9,
   "id": "42083e49-91f6-4dfb-8bc2-017471dabd3c",
   "metadata": {},
   "outputs": [
    {
     "name": "stdout",
     "output_type": "stream",
     "text": [
      "2.5555\n"
     ]
    }
   ],
   "source": [
    "print(a)"
   ]
  },
  {
   "cell_type": "code",
   "execution_count": 11,
   "id": "1f6f8cb9-f01d-441d-8800-acca203a9edf",
   "metadata": {},
   "outputs": [
    {
     "name": "stdout",
     "output_type": "stream",
     "text": [
      "2.5555\n"
     ]
    }
   ],
   "source": [
    "print (a)"
   ]
  },
  {
   "cell_type": "code",
   "execution_count": 12,
   "id": "ca93ee60-3ebf-4d0f-863b-32a41cdadb5a",
   "metadata": {},
   "outputs": [],
   "source": [
    "var1=\"\""
   ]
  },
  {
   "cell_type": "code",
   "execution_count": 13,
   "id": "4b63ea52-e280-4086-9dfc-63843b9c9c00",
   "metadata": {},
   "outputs": [
    {
     "data": {
      "text/plain": [
       "str"
      ]
     },
     "execution_count": 13,
     "metadata": {},
     "output_type": "execute_result"
    }
   ],
   "source": [
    "type(var1)"
   ]
  },
  {
   "cell_type": "code",
   "execution_count": 14,
   "id": "c85d7cc8-bfb9-4f51-afbb-8ab8bbacc9b8",
   "metadata": {},
   "outputs": [],
   "source": [
    "var2='[ds,ml,python]'"
   ]
  },
  {
   "cell_type": "code",
   "execution_count": 15,
   "id": "3d0c67b9-f4b9-47e5-8059-ac6b2d43f335",
   "metadata": {},
   "outputs": [
    {
     "data": {
      "text/plain": [
       "str"
      ]
     },
     "execution_count": 15,
     "metadata": {},
     "output_type": "execute_result"
    }
   ],
   "source": [
    "type(var2)"
   ]
  },
  {
   "cell_type": "code",
   "execution_count": 16,
   "id": "14be646d-3fe8-44a5-ab68-8233218aff79",
   "metadata": {},
   "outputs": [],
   "source": [
    "var3=['ds','ml','python']"
   ]
  },
  {
   "cell_type": "code",
   "execution_count": 17,
   "id": "aaa64e38-071e-48b6-9649-bc94c7cec3bd",
   "metadata": {},
   "outputs": [
    {
     "data": {
      "text/plain": [
       "list"
      ]
     },
     "execution_count": 17,
     "metadata": {},
     "output_type": "execute_result"
    }
   ],
   "source": [
    "type(var3)"
   ]
  },
  {
   "cell_type": "code",
   "execution_count": 18,
   "id": "cc15c5d4-7573-45ce-98c2-9b6788a25f68",
   "metadata": {},
   "outputs": [],
   "source": [
    "var4=1"
   ]
  },
  {
   "cell_type": "code",
   "execution_count": 19,
   "id": "71489dc5-e9b3-46a9-b798-aed12d8ad047",
   "metadata": {},
   "outputs": [
    {
     "data": {
      "text/plain": [
       "int"
      ]
     },
     "execution_count": 19,
     "metadata": {},
     "output_type": "execute_result"
    }
   ],
   "source": [
    "type(var4)"
   ]
  },
  {
   "cell_type": "code",
   "execution_count": 24,
   "id": "93f6a368-4ef2-4520-83de-30479c6884b9",
   "metadata": {},
   "outputs": [],
   "source": [
    "a=8"
   ]
  },
  {
   "cell_type": "code",
   "execution_count": 25,
   "id": "35d08e31-8bf4-4b68-ac56-8bbe8af87565",
   "metadata": {},
   "outputs": [],
   "source": [
    "b=2"
   ]
  },
  {
   "cell_type": "code",
   "execution_count": 26,
   "id": "a8c18b49-ec7b-42e6-81b1-d2477f82bdb9",
   "metadata": {},
   "outputs": [],
   "source": [
    "c=a/b"
   ]
  },
  {
   "cell_type": "code",
   "execution_count": 27,
   "id": "659f1305-1689-4d5c-9595-94a22e31721c",
   "metadata": {},
   "outputs": [
    {
     "name": "stdout",
     "output_type": "stream",
     "text": [
      "4.0\n"
     ]
    }
   ],
   "source": [
    "print(c)"
   ]
  },
  {
   "cell_type": "code",
   "execution_count": 28,
   "id": "b99969a5-bebb-4b4a-a302-35facb53841a",
   "metadata": {},
   "outputs": [],
   "source": [
    "d=a%b"
   ]
  },
  {
   "cell_type": "code",
   "execution_count": 29,
   "id": "dc1f073c-7dc0-4dd3-b914-93214fe9dea9",
   "metadata": {},
   "outputs": [
    {
     "name": "stdout",
     "output_type": "stream",
     "text": [
      "0\n"
     ]
    }
   ],
   "source": [
    "print(d)"
   ]
  },
  {
   "cell_type": "code",
   "execution_count": 30,
   "id": "f8e8e91c-e421-4dbd-be5f-6c41fcade84d",
   "metadata": {},
   "outputs": [],
   "source": [
    "e=a//b"
   ]
  },
  {
   "cell_type": "code",
   "execution_count": 31,
   "id": "bcf374ae-b1b2-4b05-a8f5-94f3672cb759",
   "metadata": {},
   "outputs": [
    {
     "name": "stdout",
     "output_type": "stream",
     "text": [
      "4\n"
     ]
    }
   ],
   "source": [
    "print(e)"
   ]
  },
  {
   "cell_type": "code",
   "execution_count": 32,
   "id": "e30c250a-3e3b-49aa-a98d-bcbf3c396226",
   "metadata": {},
   "outputs": [],
   "source": [
    "f=a**b"
   ]
  },
  {
   "cell_type": "code",
   "execution_count": 33,
   "id": "9a6d0645-2ead-450e-89c2-24c04d58c496",
   "metadata": {},
   "outputs": [
    {
     "name": "stdout",
     "output_type": "stream",
     "text": [
      "64\n"
     ]
    }
   ],
   "source": [
    "print(f)"
   ]
  },
  {
   "cell_type": "code",
   "execution_count": 35,
   "id": "0e4ef301-5dc1-4bbb-8ef3-1376fb16f7c8",
   "metadata": {},
   "outputs": [],
   "source": [
    "l={2,3,4,\"dog\",'cat',6,7,8,9.0,8.0}"
   ]
  },
  {
   "cell_type": "code",
   "execution_count": 36,
   "id": "4a7a1d5d-1f8f-4bb1-9100-4016b88b0d09",
   "metadata": {},
   "outputs": [
    {
     "name": "stdout",
     "output_type": "stream",
     "text": [
      "{2, 3, 4, 'dog', 6, 7, 8, 9.0, 'cat'}\n"
     ]
    }
   ],
   "source": [
    "print(l)"
   ]
  },
  {
   "cell_type": "code",
   "execution_count": 47,
   "id": "3d6830a3-79f8-4fd6-950a-4047bd314a68",
   "metadata": {},
   "outputs": [
    {
     "name": "stdout",
     "output_type": "stream",
     "text": [
      "<class 'int'>\n",
      "<class 'int'>\n",
      "<class 'int'>\n",
      "<class 'str'>\n",
      "<class 'int'>\n",
      "<class 'int'>\n",
      "<class 'int'>\n",
      "<class 'float'>\n",
      "<class 'str'>\n"
     ]
    }
   ],
   "source": [
    "for i in l:\n",
    "    print (type(i))"
   ]
  },
  {
   "cell_type": "code",
   "execution_count": 48,
   "id": "42a17027-a7ef-4b2f-a6e4-db4cbea5aed3",
   "metadata": {},
   "outputs": [],
   "source": [
    "A=20"
   ]
  },
  {
   "cell_type": "code",
   "execution_count": 49,
   "id": "1e7b3b98-3ec7-4dfc-b58b-bfbefe7d1fc8",
   "metadata": {},
   "outputs": [],
   "source": [
    "B=2"
   ]
  },
  {
   "cell_type": "code",
   "execution_count": 59,
   "id": "c76e012c-2c18-46fb-8962-fd5e044f0674",
   "metadata": {},
   "outputs": [],
   "source": [
    " while A<B:\n",
    "    A/B"
   ]
  },
  {
   "cell_type": "code",
   "execution_count": null,
   "id": "8dd4b2b1-69b1-4725-84b8-c3661dcd27f6",
   "metadata": {},
   "outputs": [],
   "source": [
    "l=(1,2,3,4,,6,7,8,9,0,11,22,33,44,55,66,77,88,99,12,13,14,15,16,17,18,19,"
   ]
  },
  {
   "cell_type": "code",
   "execution_count": 60,
   "id": "ff99c477-3951-47c5-a247-5f6cc1c67da7",
   "metadata": {},
   "outputs": [],
   "source": [
    "def createList(r1, r2):\n",
    "    return list(range(r1, r2+1))\n",
    "     "
   ]
  },
  {
   "cell_type": "code",
   "execution_count": 26,
   "id": "cf1d6d7c-e0c7-45c6-9b5c-1112737322c8",
   "metadata": {},
   "outputs": [],
   "source": [
    "r1,r2=1,25"
   ]
  },
  {
   "cell_type": "code",
   "execution_count": null,
   "id": "e796d421-a6fc-4976-b277-e5d9df5e40e8",
   "metadata": {},
   "outputs": [
    {
     "ename": "NameError",
     "evalue": "name 'createList' is not defined",
     "output_type": "error",
     "traceback": [
      "\u001b[0;31m---------------------------------------------------------------------------\u001b[0m",
      "\u001b[0;31mNameError\u001b[0m                                 Traceback (most recent call last)",
      "Cell \u001b[0;32mIn[27], line 1\u001b[0m\n\u001b[0;32m----> 1\u001b[0m \u001b[38;5;28mlist\u001b[39m\u001b[38;5;241m=\u001b[39m(\u001b[43mcreateList\u001b[49m(r1,r2))\n",
      "\u001b[0;31mNameError\u001b[0m: name 'createList' is not defined"
     ]
    }
   ],
   "source": [
    "list=(createList(r1,r2))"
   ]
  },
  {
   "cell_type": "code",
   "execution_count": null,
   "id": "d724447b-814f-49ab-91ad-6c7617ba0c48",
   "metadata": {},
   "outputs": [],
   "source": []
  },
  {
   "cell_type": "code",
   "execution_count": null,
   "id": "92a92dc3-aca6-4674-9ed5-7ca859579e97",
   "metadata": {},
   "outputs": [],
   "source": []
  },
  {
   "cell_type": "code",
   "execution_count": 22,
   "id": "84cecb76-b909-4b81-9178-0a9a0861a48f",
   "metadata": {},
   "outputs": [],
   "source": [
    "a=(\"apple\",\"burger\")"
   ]
  },
  {
   "cell_type": "code",
   "execution_count": 17,
   "id": "e0120c21-8132-4447-8b10-691b4e51eda6",
   "metadata": {},
   "outputs": [
    {
     "name": "stdout",
     "output_type": "stream",
     "text": [
      "('apple', 'burger')\n"
     ]
    }
   ],
   "source": [
    "print(a)"
   ]
  },
  {
   "cell_type": "code",
   "execution_count": null,
   "id": "0247d418-0c59-46d8-8482-fa41dccaf3ed",
   "metadata": {},
   "outputs": [],
   "source": []
  },
  {
   "cell_type": "code",
   "execution_count": null,
   "id": "b23243ca-d238-4074-945b-26979b432924",
   "metadata": {},
   "outputs": [],
   "source": []
  }
 ],
 "metadata": {
  "kernelspec": {
   "display_name": "Python 3 (ipykernel)",
   "language": "python",
   "name": "python3"
  },
  "language_info": {
   "codemirror_mode": {
    "name": "ipython",
    "version": 3
   },
   "file_extension": ".py",
   "mimetype": "text/x-python",
   "name": "python",
   "nbconvert_exporter": "python",
   "pygments_lexer": "ipython3",
   "version": "3.10.8"
  }
 },
 "nbformat": 4,
 "nbformat_minor": 5
}
